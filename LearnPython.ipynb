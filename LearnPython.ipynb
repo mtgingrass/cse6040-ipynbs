{
  "nbformat": 4,
  "nbformat_minor": 0,
  "metadata": {
    "colab": {
      "name": "LearnPython.ipynb",
      "version": "0.3.2",
      "provenance": [],
      "collapsed_sections": [],
      "include_colab_link": true
    },
    "kernelspec": {
      "name": "python3",
      "display_name": "Python 3"
    }
  },
  "cells": [
    {
      "cell_type": "markdown",
      "metadata": {
        "id": "view-in-github",
        "colab_type": "text"
      },
      "source": [
        "[View in Colaboratory](https://colab.research.google.com/github/mtgingrass/cse6040-ipynbs/blob/master/LearnPython.ipynb)"
      ]
    },
    {
      "metadata": {
        "id": "dWx52hrzEr73",
        "colab_type": "text"
      },
      "cell_type": "markdown",
      "source": [
        "Word Count"
      ]
    },
    {
      "metadata": {
        "id": "yMu85-vKEvOC",
        "colab_type": "code",
        "colab": {
          "base_uri": "https://localhost:8080/",
          "height": 138
        },
        "outputId": "f44def0c-0f54-4b2a-ee26-048f05dd4447"
      },
      "cell_type": "code",
      "source": [
        "quote = \"\"\"Testing 1, 2 3, How many\n",
        "lines does it take to \\n\\n mess this up? Or is this full \n",
        "proof?\"\"\"\n",
        "\n",
        "print (quote)\n",
        "\n",
        "def countWords1 (s):\n",
        "  \"\"\"Counts the Number of words in a string\"\"\"\"\"\n",
        "  Lines = s.split('\\n') # split up lines\n",
        "  count = 0 # initialize counter\n",
        "  \n",
        "  for line in Lines:\n",
        "    Words_in_line = line.split()\n",
        "    count = count + len (Words_in_line)\n",
        "  return count\n",
        "\n",
        "count1 = countWords1 (quote)\n",
        "\n",
        "print(\"\\nWord count: Method 1 says %d words\" % (count1))\n"
      ],
      "execution_count": 18,
      "outputs": [
        {
          "output_type": "stream",
          "text": [
            "Testing 1, 2 3, How many\n",
            "lines does it take to \n",
            "\n",
            " mess this up? Or is this full \n",
            "proof?\n",
            "\n",
            "Word count: Method 1 says 19 words\n"
          ],
          "name": "stdout"
        }
      ]
    },
    {
      "metadata": {
        "id": "fyZCQQ-gI8XY",
        "colab_type": "text"
      },
      "cell_type": "markdown",
      "source": [
        "Unique Words"
      ]
    },
    {
      "metadata": {
        "id": "LuKSG19II95b",
        "colab_type": "code",
        "colab": {
          "base_uri": "https://localhost:8080/",
          "height": 89
        },
        "outputId": "09097bdc-9839-4f6f-df39-26ead19e0524"
      },
      "cell_type": "code",
      "source": [
        "Emails = ['quigbert@cc.gatech.edu', 'dummy@gatech.edu', 'dummy@vuduc.org', 'dummy@gatech.edu', 'hopeful@gatech.edu', 'overworked@gatech.edu', 'quigbert@cc.gatech.edu']\n",
        "print (Emails)\n",
        "\n",
        "true_answer = 5\n",
        "print (\"\\n'Emails' has %d unique addresses.\" % true_answer)"
      ],
      "execution_count": 19,
      "outputs": [
        {
          "output_type": "stream",
          "text": [
            "['quigbert@cc.gatech.edu', 'dummy@gatech.edu', 'dummy@vuduc.org', 'dummy@gatech.edu', 'hopeful@gatech.edu', 'overworked@gatech.edu', 'quigbert@cc.gatech.edu']\n",
            "\n",
            "'Emails' has 5 unique addresses.\n"
          ],
          "name": "stdout"
        }
      ]
    },
    {
      "metadata": {
        "id": "xL39Z-HIJKEl",
        "colab_type": "code",
        "colab": {
          "base_uri": "https://localhost:8080/",
          "height": 35
        },
        "outputId": "4f5d57b5-8145-4cf9-d1f4-c0b093c587cd"
      },
      "cell_type": "code",
      "source": [
        "Dict = {}\n",
        "for email in Emails:\n",
        "  Dict[email] = 1\n",
        "count = len(Dict)\n",
        "\n",
        "assert count == true_answer\n",
        "print(\"(Method 1 worked!)\")"
      ],
      "execution_count": 20,
      "outputs": [
        {
          "output_type": "stream",
          "text": [
            "(Method 1 worked!)\n"
          ],
          "name": "stdout"
        }
      ]
    }
  ]
}