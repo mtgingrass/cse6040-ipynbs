{
 "cells": [
  {
   "cell_type": "markdown",
   "metadata": {},
   "source": [
    "# CSE 6040, Fall 2015 [02]: Processing unstructured text\n",
    "\n",
    "Over the next two classes, we will build toward our first computational data mining problem, called the _association rule mining problem_. The basic task is to identify commonly co-occurring items in a series of transactions.\n",
    "\n",
    "We will apply this problem to a corpus of unstructured text. Consequently, this first class will introduce (or review, for some of you) a few essential useful Python tools for this problem:\n",
    "\n",
    "* [Strings](https://docs.python.org/2/tutorial/introduction.html#strings)\n",
    "* [Sets](https://docs.python.org/2/tutorial/datastructures.html#sets)\n",
    "* [Dictionaries](https://docs.python.org/2/tutorial/datastructures.html#dictionaries)\n",
    "* [Regular expressions](https://docs.python.org/2/library/re.html)\n",
    "* [Files](https://docs.python.org/2/tutorial/inputoutput.html#reading-and-writing-files)"
   ]
  },
  {
   "cell_type": "markdown",
   "metadata": {},
   "source": [
    "## 0: Word count\n",
    "\n",
    "Given a fragment of text, represented by a string (possibly including newlines), how many words does it contain?\n",
    "\n",
    "Consider the following two methods to count words in a string. Look at these with a partner."
   ]
  },
  {
   "cell_type": "code",
   "execution_count": null,
   "metadata": {
    "collapsed": false,
    "scrolled": true
   },
   "outputs": [],
   "source": [
    "quote = \"\"\"I wish you'd stop talking.\n",
    "I wish you'd stop prying and trying to find things out.\n",
    "I wish you were dead. No. That was silly and unkind.\n",
    "But I wish you'd stop talking.\"\"\"\n",
    "print (quote)\n",
    "\n",
    "def countWords1 (s):\n",
    "    \"\"\"Counts the number of words in a given input string.\"\"\"\n",
    "    Lines = s.split ('\\n')\n",
    "    count = 0\n",
    "    for line in Lines:\n",
    "        Words_in_line = line.split ()\n",
    "        count = count + len (Words_in_line)\n",
    "    return count\n",
    "\n",
    "def countWords2 (s):\n",
    "    \"\"\"Counts the number of words in a given input string.\"\"\"\n",
    "    return len (s.split ())\n",
    "\n",
    "count1 = countWords1 (quote)\n",
    "count2 = countWords2 (quote)\n",
    "print (\"\\nWord count: Method 1 says %d words, and Method 2 says %d.\" % (count1, count2))\n",
    "assert count1 == count2"
   ]
  },
  {
   "cell_type": "markdown",
   "metadata": {},
   "source": [
    "> Q: Which would the two of you predict will be better, and why?"
   ]
  },
  {
   "cell_type": "markdown",
   "metadata": {},
   "source": [
    "(Insert your response to the above question(s) here.)"
   ]
  },
  {
   "cell_type": "markdown",
   "metadata": {},
   "source": [
    "> Q: When might these methods _not_ work as expected? With your partner, come up with one example input and write your own word counter, below, that handles that case."
   ]
  },
  {
   "cell_type": "code",
   "execution_count": null,
   "metadata": {
    "collapsed": true
   },
   "outputs": [],
   "source": [
    "def yourCountWords (s):\n",
    "    \"\"\"Insert your method here.\"\"\"\n",
    "    return 0\n",
    "\n",
    "# Write some code to test your implementation here as well."
   ]
  },
  {
   "cell_type": "markdown",
   "metadata": {},
   "source": [
    "## 1: Counting unique strings\n",
    "\n",
    "Suppose you are given a Python list of email addresses. Determine the number of _unique_ addresses."
   ]
  },
  {
   "cell_type": "code",
   "execution_count": null,
   "metadata": {
    "collapsed": false
   },
   "outputs": [],
   "source": [
    "Emails = ['quigbert@cc.gatech.edu', 'dummy@gatech.edu', 'dummy@vuduc.org', 'dummy@gatech.edu', 'hopeful@gatech.edu', 'overworked@gatech.edu', 'quigbert@cc.gatech.edu']\n",
    "print (Emails)\n",
    "\n",
    "true_answer = 5\n",
    "print (\"\\n'Emails' has %d unique addresses.\" % true_answer)"
   ]
  },
  {
   "cell_type": "markdown",
   "metadata": {},
   "source": [
    "**Method 1.** Let's use a data structure called a _dictionary_, which stores (key, value) pairs."
   ]
  },
  {
   "cell_type": "code",
   "execution_count": null,
   "metadata": {
    "collapsed": false
   },
   "outputs": [],
   "source": [
    "Dict = {}\n",
    "for email in Emails:\n",
    "    Dict[email] = 1\n",
    "count = len (Dict)\n",
    "assert count == true_answer\n",
    "print (\"(Method 1 worked!)\")"
   ]
  },
  {
   "cell_type": "markdown",
   "metadata": {},
   "source": [
    "**Method 2.** Let's use a different data structure, called a _set_. It essentially implements a set in the mathematical sense."
   ]
  },
  {
   "cell_type": "code",
   "execution_count": null,
   "metadata": {
    "collapsed": false
   },
   "outputs": [],
   "source": [
    "UniqueEmails = set (Emails)\n",
    "count = len (UniqueEmails)\n",
    "assert count == true_answer\n",
    "print (\"Method 2 worked!\")"
   ]
  },
  {
   "cell_type": "markdown",
   "metadata": {},
   "source": [
    "> Q: So, which method is better, and why? If you think one method is better than another for this problem, for what kinds of problems would you prefer the other method?"
   ]
  },
  {
   "cell_type": "markdown",
   "metadata": {},
   "source": [
    "(Insert your response to the above question(s) here.)"
   ]
  },
  {
   "cell_type": "markdown",
   "metadata": {},
   "source": [
    "## 2: Regular expressions\n",
    "\n",
    "The preceding exercise hints at a general problem of finding specific patterns in text. A handy tool for this problem is Python's _regular expression library_.\n",
    "\n",
    "A _regular expression_ is specially formatted pattern, written as a string. Matching patterns with regular expressions has 3 steps:\n",
    "\n",
    "1. You come up with a pattern to find\n",
    "2. You compile it into a _pattern object_\n",
    "3. You apply the pattern object to a string, to find instances of the pattern within the string\n",
    "\n",
    "It is easiest to see by example. What follows is just a small sample of what is possible with regular expressions in Python; refer to the [regular expression documentation](https://docs.python.org/2/howto/regex.html) for many more examples and details.\n",
    "\n",
    "**Example 1.** The simplest pattern is text that you wish to match exactly. For instance, suppose you wish to find an instance of the word \"impossible\" in a piece of text. Here is a snippet of Python code to do it.\n",
    "\n",
    "> Run this snippet. Try changing the search string and see what happens."
   ]
  },
  {
   "cell_type": "code",
   "execution_count": null,
   "metadata": {
    "collapsed": false
   },
   "outputs": [],
   "source": [
    "import re    # Loads the regular expression library\n",
    "\n",
    "p = re.compile (\"impossible\")\n",
    "m = p.search (\"This mission is impossible.\")\n",
    "if m == None:\n",
    "    print (\"Not found.\")\n",
    "else:\n",
    "    print (\"Found pattern at position %d\" % m.start ())"
   ]
  },
  {
   "cell_type": "markdown",
   "metadata": {},
   "source": [
    "The variable `m` in the example contains a _match object_ if the pattern is found. You can perform queries against the match object, such as the one illustrated above."
   ]
  },
  {
   "cell_type": "markdown",
   "metadata": {},
   "source": [
    "Beyond exact text, there is a rich syntax for specifying complex patterns.\n",
    "\n",
    "For instance, you can use _character classes_ to match both \"Impossible\" and \"impossible\" using the pattern, \"`[Ii]mpossible`\". That is, the characters in square brackets represent the set of all characters that may match at the given position. As another example, you could match any digit using the character class, \"`[0123456789]`\", or the more compact _range_ notation, \"`[0-9]`\". Thus, the pattern, \"`cat[xyz][0-9]hole`\" would match \"catx3hole\" but neither \"catX3hole\" nor \"catxzhole\".\n",
    "\n",
    "You can also match the _complement_ of a character class set using a caret, \"`^`\", just after the opening square bracket. For instance, \"`cat[a-z][^0-9]hole`\" would match \"catx@hole\" but not \"catx3hole\".\n",
    "\n",
    "There are some common character classes, which have additional shortcuts. For instance, the special _escaped_ `d`, or `\\d`, will match _any_ digit. So, to match a 7-digit phone number, you might use the pattern, \"`\\d\\d\\d-\\d\\d\\d\\d`\".\n",
    "\n",
    "Parentheses actually have a special meaning in a regular expression pattern. Therefore, to match an exact parenthesis, you need to prefix it (or _escape_ it) with a backslash, `\\`."
   ]
  },
  {
   "cell_type": "markdown",
   "metadata": {},
   "source": [
    "**Example 2.** For instance, suppose you wish to match a phone number written in the US standard format, like \"(404) 555-1212\". The pattern is a 3-digit area code, surrounded by parentheses, followed by a space, followed by a 7-digit number separated between the third and fourth digits. This pattern can be encoded as the following regular expression pattern:\n",
    "\n",
    "    \\(\\d\\d\\d\\) \\d\\d\\d-\\d\\d\\d\\d\n",
    "    \n",
    "> Try the following example, which demonstrates the phone number matching pattern."
   ]
  },
  {
   "cell_type": "code",
   "execution_count": null,
   "metadata": {
    "collapsed": false
   },
   "outputs": [],
   "source": [
    "def findPhone1 (s):\n",
    "    \"\"\"Returns the first instance of a phone number in 's', or 'None'.\"\"\"\n",
    "    phonePattern = re.compile (\"\\(\\d\\d\\d\\) \\d\\d\\d-\\d\\d\\d\\d\")\n",
    "    hasPhone = phonePattern.search (s)\n",
    "    if hasPhone:\n",
    "        a = hasPhone.start ()\n",
    "        b = hasPhone.end ()\n",
    "        phone = s[a:b]\n",
    "    else:\n",
    "        phone = None\n",
    "    return phone\n",
    "    \n",
    "message = \"Hi Betty. Give me a ring at (404) 555-1212 when you get a chance.\"\n",
    "findPhone1 (message)"
   ]
  },
  {
   "cell_type": "markdown",
   "metadata": {},
   "source": [
    "**Example 4.** You can make the phone number pattern more robust by allowing _zero or more_ spaces between the area code and the phone number, using the `*` option:"
   ]
  },
  {
   "cell_type": "code",
   "execution_count": null,
   "metadata": {
    "collapsed": false
   },
   "outputs": [],
   "source": [
    "def findPhone2 (s):\n",
    "    \"\"\"Returns the first instance of a phone number in 's', or 'None'.\"\"\"\n",
    "    phonePattern = re.compile (\"\\(\\d\\d\\d\\) *\\d\\d\\d-\\d\\d\\d\\d\")\n",
    "    hasPhone = phonePattern.search (s)\n",
    "    if hasPhone:\n",
    "        a = hasPhone.start ()\n",
    "        b = hasPhone.end ()\n",
    "        phone = s[a:b]\n",
    "    else:\n",
    "        phone = None\n",
    "    return phone\n",
    "\n",
    "findPhone2 (\"Phone: (404)555-1212\")"
   ]
  },
  {
   "cell_type": "markdown",
   "metadata": {},
   "source": [
    "Beyond \"`*`\", other wildcards include \"`+`\" to match one or more, as well as \"`?`\" to match zero or one instances."
   ]
  },
  {
   "cell_type": "markdown",
   "metadata": {},
   "source": [
    "**Example 5.** It's also possible to match alternatives, using the _or_ symbol, `|`. For instance, suppose you wish to recognize either of the words, \"prefix\" or \"suffix\":"
   ]
  },
  {
   "cell_type": "code",
   "execution_count": null,
   "metadata": {
    "collapsed": false
   },
   "outputs": [],
   "source": [
    "fixFinder = re.compile (\"(pre|suf)fix\")\n",
    "assert fixFinder.search (\"prefix\")\n",
    "assert fixFinder.search (\"suffix\")\n",
    "assert not fixFinder.search (\"infix\")"
   ]
  },
  {
   "cell_type": "markdown",
   "metadata": {},
   "source": [
    "> Q: Apply these technique to our phone number finder. Define a function that can match phone numbers in any of the following forms:\n",
    "\n",
    "* (404) 555-1212\n",
    "* 404-555-1212\n",
    "* 404-5551212\n",
    "* 404555-1212\n",
    "* 4045551212"
   ]
  },
  {
   "cell_type": "code",
   "execution_count": null,
   "metadata": {
    "collapsed": false
   },
   "outputs": [],
   "source": [
    "def yourPhoneFinder (s):\n",
    "    \"\"\"Returns the first instance of a phone number in 's', or 'None'.\"\"\"\n",
    "    # Fix the pattern:\n",
    "    phonePattern = re.compile (\"\\(\\d\\d\\d\\) *\\d\\d\\d-\\d\\d\\d\\d\")\n",
    "    hasPhone = phonePattern.search (s)\n",
    "    if hasPhone:\n",
    "        a = hasPhone.start ()\n",
    "        b = hasPhone.end ()\n",
    "        phone = s[a:b]\n",
    "    else:\n",
    "        phone = None\n",
    "    return phone\n",
    "\n",
    "assert yourPhoneFinder (\"(404)555-1212\")\n",
    "assert yourPhoneFinder (\"(404) 555-1212\")\n",
    "assert yourPhoneFinder (\"404-555-1212\")\n",
    "assert yourPhoneFinder (\"4045551212\")"
   ]
  },
  {
   "cell_type": "markdown",
   "metadata": {},
   "source": [
    "**Example 6.** Another common use-case is matching a string but extracting just a portion of it. For this purpose, you can use _groups_.\n",
    "\n",
    "Consider the simple form of phone numbers, such as \"(404) 555-1212\". Suppose you wish to match a phone number, but then extract just the digits of the area code from the remainder of the number. For instance, for the above you might produce the list, `['404','555-1212']`.\n",
    "\n",
    "You can identify a group inside the pattern by enclosing the subpattern within parentheses, and then using a special syntax to give it a name. The name allows you to refer to the matched substring later on:"
   ]
  },
  {
   "cell_type": "code",
   "execution_count": null,
   "metadata": {
    "collapsed": false
   },
   "outputs": [],
   "source": [
    "def findPhone3 (s):\n",
    "    \"\"\"Returns a the first instance of a phone number in 's', or 'None'.\"\"\"\n",
    "    phonePattern = re.compile (\"\\((?P<areacode>\\d\\d\\d)\\) (?P<number>\\d\\d\\d-\\d\\d\\d\\d)\")\n",
    "    hasPhone = phonePattern.search (s)\n",
    "    if hasPhone:\n",
    "        areacode = hasPhone.group ('areacode')\n",
    "        number = hasPhone.group ('number')\n",
    "        phone = [areacode, number]\n",
    "    else:\n",
    "        phone = None\n",
    "    return phone\n",
    "\n",
    "findPhone3 (message)"
   ]
  },
  {
   "cell_type": "markdown",
   "metadata": {},
   "source": [
    "In the preceding example, the syntax, `(?P<name>xxx)` defines a group named `name` for the subpattern represented abstractly by `xxx`. The example calls the match object's method, `group(\"name\")`, to extract the matching substring."
   ]
  },
  {
   "cell_type": "markdown",
   "metadata": {},
   "source": [
    "**Example 7.** One pitfall with regular expression patterns is that they get messy quickly. The `re.compile()` function takes a special flag, `re.VERBOSE`, which allows you to write regular expressions in a more structured and hopefully also more readable way. In particular, you can insert arbitrary amounts of whitespace as well as comments."
   ]
  },
  {
   "cell_type": "code",
   "execution_count": null,
   "metadata": {
    "collapsed": false
   },
   "outputs": [],
   "source": [
    "def findPhone4 (s):\n",
    "    \"\"\"Returns a the first instance of a phone number in 's', or 'None'.\"\"\"\n",
    "    phonePattern = re.compile (r\"\"\"\n",
    "          # Area code:\n",
    "          \\(\n",
    "            (?P<areacode>\\d\\d\\d)\n",
    "          \\)\n",
    "          # Optional separator (one or more spaces)\n",
    "          \\s*\n",
    "          # Phone number\n",
    "          (?P<number>\\d\\d\\d-\\d\\d\\d\\d)\n",
    "       \"\"\", re.VERBOSE)\n",
    "    hasPhone = phonePattern.search (s)\n",
    "    if hasPhone:\n",
    "        areacode = hasPhone.group ('areacode')\n",
    "        number = hasPhone.group ('number')\n",
    "        phone = [areacode, number]\n",
    "    else:\n",
    "        phone = None\n",
    "    return phone\n",
    "\n",
    "findPhone4 (message)"
   ]
  },
  {
   "cell_type": "markdown",
   "metadata": {},
   "source": [
    "## 3: File I/O\n",
    "\n",
    "Reading from or writing to a file is accomplished through a _file object_.\n",
    "\n",
    "In this example, the file \"skilling-j.inbox\" is a text file containing a bunch of email messages. You should download it if you haven't done so already: [[download]](https://raw.githubusercontent.com/rvuduc/cse6040-ipynbs/master/skilling-j.inbox). (If you are pulling directly from the class notebooks Github repo, this file is included already.)"
   ]
  },
  {
   "cell_type": "markdown",
   "metadata": {},
   "source": [
    "**Example 1.** You can read the entire file into a string by using `open()` to create a file object, and then reading its contents:"
   ]
  },
  {
   "cell_type": "code",
   "execution_count": null,
   "metadata": {
    "collapsed": false
   },
   "outputs": [],
   "source": [
    "inbox = open ('skilling-j.inbox', 'r') # 'r' = read mode; use 'w' for writing\n",
    "assert inbox # Makes sure it opened OK\n",
    "\n",
    "all_messages = inbox.read ()\n",
    "inbox.close () # Should close a file when you are done\n",
    "\n",
    "# Print first 500 characters\n",
    "print all_messages[0:500]"
   ]
  },
  {
   "cell_type": "markdown",
   "metadata": {},
   "source": [
    "> Q: Do you anticipate any pitfalls in this approach?"
   ]
  },
  {
   "cell_type": "markdown",
   "metadata": {},
   "source": [
    "(Insert your response to the above question(s) here.)"
   ]
  },
  {
   "cell_type": "markdown",
   "metadata": {},
   "source": [
    "**Example 2.** A more memory-efficient way to read a file is to read chunks at a time. For text files, a particularly convenient way is to read the file one line at a time, using a file object's `readline ()` method, or by looping directly over the object. The following example does so in order to count the number of lines in the file."
   ]
  },
  {
   "cell_type": "code",
   "execution_count": null,
   "metadata": {
    "collapsed": false
   },
   "outputs": [],
   "source": [
    "inbox = open ('skilling-j.inbox', 'r') # 'r' = read mode; use 'w' for writing\n",
    "assert inbox # Makes sure it opened OK\n",
    "\n",
    "count = 0\n",
    "for line in inbox: # reads one line at a time\n",
    "    count = count + 1\n",
    "inbox.close ()\n",
    "\n",
    "print (\"The file has %d lines.\" % count)"
   ]
  },
  {
   "cell_type": "markdown",
   "metadata": {},
   "source": [
    "## 4: Putting it all together: Email counter\n",
    "\n",
    "> Q: Using all of the techniques in this lesson, write a Python program that counts the number of _unique_ email addresses that appear in the \"skilling-j.inbox\" input file."
   ]
  },
  {
   "cell_type": "code",
   "execution_count": null,
   "metadata": {
    "collapsed": true
   },
   "outputs": [],
   "source": []
  }
 ],
 "metadata": {
  "kernelspec": {
   "display_name": "Python 2",
   "language": "python",
   "name": "python2"
  },
  "language_info": {
   "codemirror_mode": {
    "name": "ipython",
    "version": 2
   },
   "file_extension": ".py",
   "mimetype": "text/x-python",
   "name": "python",
   "nbconvert_exporter": "python",
   "pygments_lexer": "ipython2",
   "version": "2.7.10"
  }
 },
 "nbformat": 4,
 "nbformat_minor": 0
}
