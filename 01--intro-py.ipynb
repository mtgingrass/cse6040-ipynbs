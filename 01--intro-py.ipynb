{
 "cells": [
  {
   "cell_type": "markdown",
   "metadata": {},
   "source": [
    "# CSE 6040, Fall 2015 [01]: Intro to Python\n",
    "\n",
    "In this class, you will do a lot of development in the [Python](http://python.org) language. Python is great for rapid prototyping, meaning you can get started quickly. Yet, it's much more than a toy language, and so very practical for industrial use. In fact, Python is one of the 3 main languages in use at Google's _production_ code!\n",
    "\n",
    "> Q: Can you name the other two languages?\n",
    "\n",
    "It also has extensive library support, meaning a lot of the code you will need day-to-day already exists -- you just need to find it, download it (if necessary), and start using it in your own programs.\n",
    "\n",
    "Right now, you are looking at an [IPython notebook](http://ipython.org/). An IPython notebook is a document that mixes text, code, and code output. It's a little bit different than running Python from an interpreter command-line, which you may have done at the [MS Analytics Python 101 Bootcamp](https://piazza.com/class/id5sef06fsf46v?cid=7). We will use them for in-class exercises because, from a teaching and learning point of view, it's a great way to create structured, self-documenting worksheets that you can play with and revise.\n",
    "\n",
    "The goal of this notebook is to introduce you to how IPython notebooks work and practice writing some Python code.\n",
    "\n",
    "> Note: For a different tutorial, refer to the [one included in the Python documentation](https://docs.python.org/2/tutorial/index.html) or the MSA Python 101 Boot Camp (see above)."
   ]
  },
  {
   "cell_type": "markdown",
   "metadata": {},
   "source": [
    "## Concept 0: Expressions, identifiers, and (assignment) statements\n",
    "\n",
    "The basic building block of any Python program is an _expression_. A Python expression is just like a mathematical expression: it's a snippet of values and operations that, when executed, produce a value.\n",
    "\n",
    "Examples:\n",
    "* An integer value: `3`\n",
    "* A floating-point (\"real\") value: `3.0`\n",
    "* A string: `\"hello\"`\n",
    "* The addition of two integers: `3+5`\n",
    "* The addition of two strings: `\"hello\" + \", world\"`\n",
    "\n",
    "In an IPython notebook, you enter Python code in designated code blocks, denoted by the prefix, `In [...]:`\n",
    "\n",
    "> Q: Try typing any one of the above expressions, and then press the \"Play\" button. What happens if you enter more than one expression (each on its own line)?"
   ]
  },
  {
   "cell_type": "code",
   "execution_count": null,
   "metadata": {
    "collapsed": false
   },
   "outputs": [],
   "source": []
  },
  {
   "cell_type": "markdown",
   "metadata": {},
   "source": [
    "You can also _name_ an expression, so that you can refer to it elsewhere in your program. The name is sometimes also called an _identifier_, and a named expression a _variable_.\n",
    "\n",
    "A line of code that names an expression is an _assignment statement_.\n",
    "\n",
    "For instance, consider the following sequence of assignment statements. Read it first. Then, play it to see if you get what you'd expect.\n",
    "\n",
    "> Q: Notice that the last line is in fact an expression, which is just one of the identifiers. What happens if you remove it? You can do that by _commenting it out_, namely, typing a `#` sign in front of it."
   ]
  },
  {
   "cell_type": "code",
   "execution_count": null,
   "metadata": {
    "collapsed": false
   },
   "outputs": [],
   "source": [
    "x = 5\n",
    "x_squared = x * x\n",
    "x_to_the_4th = x_squared * x_squared\n",
    "x_to_the_4th"
   ]
  },
  {
   "cell_type": "markdown",
   "metadata": {},
   "source": [
    "## Concept 1: Functions and identifier scope\n",
    "\n",
    "A _function_ is similar to the same concept from mathematics: it produces some output, given one or more inputs.\n",
    "\n",
    "And just like a mathematical function, Python distinguishes between the _definition_ of a function from its _use_. To understand how functions work, it's helpful to see definitions and uses together.\n",
    "\n",
    "The following program defines a function named `square` that, given an input value $k$, computes its square, $k^2$. It then uses that function to compute $5^4$, which is of course equal to $(5^2)^2 = 625$, or two sequential uses of `square`."
   ]
  },
  {
   "cell_type": "code",
   "execution_count": null,
   "metadata": {
    "collapsed": false,
    "scrolled": true
   },
   "outputs": [],
   "source": [
    "def square (k):\n",
    "    k_squared = k * k\n",
    "    return k_squared\n",
    "\n",
    "square (square (5))"
   ]
  },
  {
   "cell_type": "markdown",
   "metadata": {},
   "source": [
    "Some things to observe:\n",
    "\n",
    "* Each statement within the _body_ of `square` is indented. The Python language requires that you do this, to indicate both the beginning and the end of the function's definition. (The end occurs at the next line that is _not_ indented.)\n",
    "* Following the function definition, there is an assignment statement whose right-hand side consists of two uses of the function, or two _function calls_. The form suggests that a function call is in fact a certain kind of expression.\n",
    "* Procedurally, the function call transfers control of the program to the function definition, with the arguments at the definition replaced by the values given at the _call site_, which is the location of the call.\n",
    "* Since the function call is an expression, it must take some value when the call is complete. The `return` statement within the function's definition tells you what that value is.\n",
    "\n",
    "An important note about functions is that any identifiers assigned within its body are _local_ to the body. That is, when a function is called (executed), it cannot normally replace the value of an identifier that was assigned _outside_ the function.\n",
    "\n",
    "> Q: Based on the preceding claim, what is the value of 'z' in this example?"
   ]
  },
  {
   "cell_type": "code",
   "execution_count": null,
   "metadata": {
    "collapsed": false
   },
   "outputs": [],
   "source": [
    "z = 7\n",
    "\n",
    "def tryToOverwrite (k):\n",
    "    z = k\n",
    "    y = z + k\n",
    "    return y\n",
    "\n",
    "tryToOverwrite (10)\n",
    "z"
   ]
  },
  {
   "cell_type": "markdown",
   "metadata": {},
   "source": [
    "## Concept 2: Lists\n",
    "\n",
    "Beyond scalar values, you can also operate on _collections_ of values.\n",
    "\n",
    "There are many kinds of collections in Python. The simplest is the basic [list](https://docs.python.org/2/tutorial/introduction.html#lists), which is simply a sequence of values.\n",
    "\n",
    "You can define small lists directly using a special kind of expression, in which the values (themselves expressions) appear as a comma-delimited sequence within square brackets:\n",
    "\n",
    "* A list of integers: `[3, 1, 4, 1, 5, 9]`\n",
    "* A list of strings: `[\"my\", \"momma\", \"told\", \"me\", \"you\", \"better\", \"shop\", \"around\"]`\n",
    "* A mixed list: `[72, \"hello\", square, square (5)]`\n",
    "\n",
    "> Q: Try evaluating the above expressions."
   ]
  },
  {
   "cell_type": "code",
   "execution_count": null,
   "metadata": {
    "collapsed": false
   },
   "outputs": [],
   "source": []
  },
  {
   "cell_type": "markdown",
   "metadata": {},
   "source": [
    "> Q: What value does the following expression produce?"
   ]
  },
  {
   "cell_type": "code",
   "execution_count": null,
   "metadata": {
    "collapsed": true
   },
   "outputs": [],
   "source": [
    "[72, \"hello\", square, square (5)][2](10)"
   ]
  },
  {
   "cell_type": "markdown",
   "metadata": {},
   "source": [
    "You can of course name a list."
   ]
  },
  {
   "cell_type": "code",
   "execution_count": null,
   "metadata": {
    "collapsed": false
   },
   "outputs": [],
   "source": [
    "E = [2, 7, 1, 8, 2, 8, 1, 8, 2, 8, 5]"
   ]
  },
  {
   "cell_type": "markdown",
   "metadata": {},
   "source": [
    "Given a list `L`, you can extract particular list values by an integer offset, or _index_.\n",
    "\n",
    "The first element starts at index 0, and subsequence elements at positive integers. But you can also use _negative_ indices to give offsets relative to one element past the _last_. Lastly, you can extract arbitrary subsequences, which are themselves (sub)lists, by a variety of different _slicing_ operations. The following examples summarize these cases:\n",
    "\n",
    "* First element: `L[0]`\n",
    "* Last element: `L[len (L)-1] == L[-1]`\n",
    "* Second-to-last element: `L[-2]`\n",
    "* Slice, `[a:b]`: All elements starting at `a` and ending at `b-1`\n",
    "* Strided slice, `[a:b:s]`: All elements starting at `a`, ending at `b-1`, and including every `s` elements. That is, the indices `a`, `a+s`, `a+2*s`, ..., `a+k*s <= b-1 < a+(k+1)*s` for some largest integer `k`\n",
    "\n",
    "> Q: Use slicing to create an expression that is a sublist of `E` above containing only the values 8. (You may exploit the exact definition of `E`.)"
   ]
  },
  {
   "cell_type": "code",
   "execution_count": null,
   "metadata": {
    "collapsed": false
   },
   "outputs": [],
   "source": []
  },
  {
   "cell_type": "markdown",
   "metadata": {},
   "source": [
    "A handy function is `range (a, b)`, which returns a list of integers from $a$ to $b-1$, inclusive."
   ]
  },
  {
   "cell_type": "code",
   "execution_count": null,
   "metadata": {
    "collapsed": false
   },
   "outputs": [],
   "source": [
    "n = 100000000\n",
    "X = range (1, n+1) # Note the '+1', to get the sequence {1, 2, ..., n}"
   ]
  },
  {
   "cell_type": "markdown",
   "metadata": {},
   "source": [
    "## Concept 3: Sum the sequence\n",
    "\n",
    "Compute the sum of the sequence `X` created above."
   ]
  },
  {
   "cell_type": "code",
   "execution_count": null,
   "metadata": {
    "collapsed": false
   },
   "outputs": [],
   "source": [
    "s_analytical = n * (n+1) / 2\n",
    "s_computed = sum (X)\n",
    "assert s_computed == s_analytical\n",
    "print (\"Sum of {1, 2, ..., %d} = %d\" % (n, s_computed))"
   ]
  },
  {
   "cell_type": "markdown",
   "metadata": {},
   "source": [
    "By the way, here's a neat trick to output typeset mathematics (via $\\LaTeX$), taken from [this StackOverflow post](http://stackoverflow.com/questions/19470796/ipython-notebook-output-latex-or-mathjax).\n",
    "\n",
    "> Try hitting \"Play\" to see what it outputs. Note: This trick only works inside an IPython notebook."
   ]
  },
  {
   "cell_type": "code",
   "execution_count": null,
   "metadata": {
    "collapsed": false
   },
   "outputs": [],
   "source": [
    "from IPython.display import Math\n",
    "Math(\"\\\\sum_{i=1}^{%d} i = %d\" % (n, s_computed))"
   ]
  },
  {
   "cell_type": "markdown",
   "metadata": {
    "collapsed": true
   },
   "source": [
    "## Concept 4: Correctness and efficiency\n",
    "\n",
    "It's probably obvious that one of your main goals is to write _correct_ programs. But another important goal, especially if you want to scale to large data sets, is _efficiency_.\n",
    "\n",
    "Often, efficiency is possible through the use of the right _patterns_ or _idioms_. Just like idioms in natural language, programming language idioms are shortcuts that have a particular meaning.\n",
    "\n",
    "Consider two different ways to carry out the sum of `n` elements: using the `sum()` function, as above, compared to using an explicit loop. You should observe that one is much faster than the other. Why?"
   ]
  },
  {
   "cell_type": "code",
   "execution_count": null,
   "metadata": {
    "collapsed": false
   },
   "outputs": [],
   "source": [
    "import time\n",
    "\n",
    "t_start = time.time () # Start timer, which returns a time stamp in seconds\n",
    "s_sum = sum (X)\n",
    "t_sum = time.time () - t_start\n",
    "assert s_sum == s_analytical\n",
    "\n",
    "t_start = time.time ()\n",
    "s_loop = 0\n",
    "for x_i in X:\n",
    "    s_loop = s_loop + x_i\n",
    "t_loop = time.time () - t_start\n",
    "assert s_loop == s_analytical\n",
    "\n",
    "print (\"Time using sum: %g seconds\" % t_sum)\n",
    "print (\"Time using loop: %g seconds\" % t_loop)"
   ]
  }
 ],
 "metadata": {
  "kernelspec": {
   "display_name": "Python 2",
   "language": "python",
   "name": "python2"
  },
  "language_info": {
   "codemirror_mode": {
    "name": "ipython",
    "version": 2
   },
   "file_extension": ".py",
   "mimetype": "text/x-python",
   "name": "python",
   "nbconvert_exporter": "python",
   "pygments_lexer": "ipython2",
   "version": "2.7.10"
  }
 },
 "nbformat": 4,
 "nbformat_minor": 0
}
